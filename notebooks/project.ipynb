{
 "cells": [
  {
   "cell_type": "markdown",
   "metadata": {
    "collapsed": true,
    "pycharm": {
     "name": "#%% md\n"
    }
   },
   "source": [
    "# Machine Larning Project\n",
    "\n",
    "Article: *Multi-Task Deep Neural Networks for Natural Language Understanding*\n",
    "\n",
    "<a href=https://arxiv.org/abs/1901.11504> https://arxiv.org/abs/1901.11504</a>\n",
    "\n",
    "## Import Data"
   ]
  },
  {
   "cell_type": "code",
   "source": [
    "#!cd ..\n",
    "#!python scripts/download_glue_data.py --data_dir data --tasks all"
   ],
   "metadata": {
    "collapsed": false,
    "pycharm": {
     "name": "#%% \n",
     "is_executing": false
    }
   },
   "execution_count": 1,
   "outputs": []
  },
  {
   "cell_type": "code",
   "execution_count": 2,
   "outputs": [
    {
     "name": "stdout",
     "text": [
      "E:\\Documenti\\Magistrale\\PycharmProject\\Progetto_ML\\data\nE:\\Documenti\\Magistrale\\PycharmProject\\Progetto_ML\\models\n"
     ],
     "output_type": "stream"
    }
   ],
   "source": [
    "import os\n",
    "from path import Path\n",
    "PROJ_DIR = Path().getcwd().parent\n",
    "DATA_DIR = PROJ_DIR / \"data\"\n",
    "MODELS_DIR=PROJ_DIR / \"models\"\n",
    "print(DATA_DIR)\n",
    "print(MODELS_DIR)\n"
   ],
   "metadata": {
    "collapsed": false,
    "pycharm": {
     "name": "#%%\n",
     "is_executing": false
    }
   }
  },
  {
   "cell_type": "code",
   "execution_count": 3,
   "outputs": [],
   "source": [
    "import numpy as np\n",
    "import pandas as pd\n",
    "import seaborn as sns\n",
    "import matplotlib.pyplot as plt\n",
    "\n",
    "from scripts.utils import *"
   ],
   "metadata": {
    "collapsed": false,
    "pycharm": {
     "name": "#%%\n",
     "is_executing": false
    }
   }
  },
  {
   "cell_type": "code",
   "execution_count": 4,
   "outputs": [
    {
     "name": "stderr",
     "text": [
      "b'Skipping line 24810: expected 12 fields, saw 13\\nSkipping line 33961: expected 12 fields, saw 13\\n'\n",
      "b'Skipping line 75911: expected 12 fields, saw 13\\nSkipping line 100114: expected 12 fields, saw 13\\n'\n",
      "b'Skipping line 150638: expected 12 fields, saw 13\\nSkipping line 158834: expected 12 fields, saw 13\\nSkipping line 173104: expected 12 fields, saw 13\\nSkipping line 178252: expected 12 fields, saw 13\\n'\n",
      "b'Skipping line 221951: expected 12 fields, saw 13\\n'\n",
      "b'Skipping line 286845: expected 12 fields, saw 13\\nSkipping line 314110: expected 12 fields, saw 13\\n'\n",
      "b'Skipping line 370: expected 5 fields, saw 6\\n'\n",
      "b'Skipping line 93: expected 5 fields, saw 6\\nSkipping line 590: expected 5 fields, saw 6\\nSkipping line 778: expected 5 fields, saw 6\\nSkipping line 790: expected 5 fields, saw 6\\nSkipping line 882: expected 5 fields, saw 6\\nSkipping line 1296: expected 5 fields, saw 6\\nSkipping line 1324: expected 5 fields, saw 6\\nSkipping line 1640: expected 5 fields, saw 6\\nSkipping line 1759: expected 5 fields, saw 6\\nSkipping line 1808: expected 5 fields, saw 6\\nSkipping line 2010: expected 5 fields, saw 6\\nSkipping line 2254: expected 5 fields, saw 6\\nSkipping line 2268: expected 5 fields, saw 6\\nSkipping line 2527: expected 5 fields, saw 6\\nSkipping line 2602: expected 5 fields, saw 6\\nSkipping line 2659: expected 5 fields, saw 6\\nSkipping line 2929: expected 5 fields, saw 6\\nSkipping line 3032: expected 5 fields, saw 6\\nSkipping line 3144: expected 5 fields, saw 6\\nSkipping line 3322: expected 5 fields, saw 6\\nSkipping line 3563: expected 5 fields, saw 6\\n'\nb'Skipping line 34: expected 5 fields, saw 6\\nSkipping line 121: expected 5 fields, saw 6\\nSkipping line 211: expected 5 fields, saw 6\\nSkipping line 263: expected 5 fields, saw 6\\nSkipping line 345: expected 5 fields, saw 6\\nSkipping line 696: expected 5 fields, saw 6\\nSkipping line 733: expected 5 fields, saw 6\\nSkipping line 847: expected 5 fields, saw 6\\nSkipping line 1392: expected 5 fields, saw 6\\nSkipping line 1467: expected 5 fields, saw 6\\nSkipping line 1551: expected 5 fields, saw 6\\n'\n",
      "b'Skipping line 34: expected 5 fields, saw 6\\nSkipping line 121: expected 5 fields, saw 6\\nSkipping line 211: expected 5 fields, saw 6\\nSkipping line 263: expected 5 fields, saw 6\\nSkipping line 345: expected 5 fields, saw 6\\nSkipping line 696: expected 5 fields, saw 6\\nSkipping line 733: expected 5 fields, saw 6\\nSkipping line 847: expected 5 fields, saw 6\\nSkipping line 1392: expected 5 fields, saw 6\\nSkipping line 1467: expected 5 fields, saw 6\\nSkipping line 1551: expected 5 fields, saw 6\\n'\nb'Skipping line 102: expected 5 fields, saw 6\\nSkipping line 656: expected 5 fields, saw 6\\nSkipping line 867: expected 5 fields, saw 6\\nSkipping line 880: expected 5 fields, saw 6\\nSkipping line 980: expected 5 fields, saw 6\\nSkipping line 1439: expected 5 fields, saw 6\\nSkipping line 1473: expected 5 fields, saw 6\\nSkipping line 1822: expected 5 fields, saw 6\\nSkipping line 1952: expected 5 fields, saw 6\\nSkipping line 2009: expected 5 fields, saw 6\\nSkipping line 2230: expected 5 fields, saw 6\\nSkipping line 2506: expected 5 fields, saw 6\\nSkipping line 2523: expected 5 fields, saw 6\\nSkipping line 2809: expected 5 fields, saw 6\\nSkipping line 2887: expected 5 fields, saw 6\\nSkipping line 2920: expected 5 fields, saw 6\\nSkipping line 2944: expected 5 fields, saw 6\\nSkipping line 3241: expected 5 fields, saw 6\\nSkipping line 3358: expected 5 fields, saw 6\\nSkipping line 3459: expected 5 fields, saw 6\\nSkipping line 3491: expected 5 fields, saw 6\\nSkipping line 3643: expected 5 fields, saw 6\\nSkipping line 3696: expected 5 fields, saw 6\\nSkipping line 3955: expected 5 fields, saw 6\\n'\n",
      "b'Skipping line 1042: expected 10 fields, saw 11\\nSkipping line 1066: expected 10 fields, saw 11\\nSkipping line 1083: expected 10 fields, saw 11\\nSkipping line 1137: expected 10 fields, saw 11\\nSkipping line 1150: expected 10 fields, saw 11\\n'\nb'Skipping line 2509: expected 10 fields, saw 11\\nSkipping line 2650: expected 10 fields, saw 11\\nSkipping line 2727: expected 10 fields, saw 11\\nSkipping line 3071: expected 10 fields, saw 11\\nSkipping line 3393: expected 10 fields, saw 11\\n'\n",
      "Skipping line 893: '\t' expected after '\"'\nSkipping line 900: '\t' expected after '\"'\nSkipping line 918: '\t' expected after '\"'\nSkipping line 919: '\t' expected after '\"'\nSkipping line 933: '\t' expected after '\"'\nSkipping line 941: '\t' expected after '\"'\nSkipping line 963: '\t' expected after '\"'\nSkipping line 983: '\t' expected after '\"'\nSkipping line 991: '\t' expected after '\"'\nSkipping line 997: '\t' expected after '\"'\nSkipping line 1018: '\t' expected after '\"'\nSkipping line 1026: '\t' expected after '\"'\nSkipping line 1030: '\t' expected after '\"'\nSkipping line 1051: '\t' expected after '\"'\nSkipping line 1053: '\t' expected after '\"'\nSkipping line 1055: '\t' expected after '\"'\nSkipping line 1071: '\t' expected after '\"'\nSkipping line 1072: '\t' expected after '\"'\nSkipping line 1074: '\t' expected after '\"'\nSkipping line 1078: '\t' expected after '\"'\nSkipping line 1105: '\t' expected after '\"'\nSkipping line 1111: '\t' expected after '\"'\nSkipping line 1120: unexpected end of data\n",
      "b'Skipping line 660: expected 4 fields, saw 5\\n'\n",
      "b'Skipping line 10344: expected 4 fields, saw 5\\nSkipping line 10897: expected 4 fields, saw 5\\nSkipping line 11356: expected 4 fields, saw 5\\nSkipping line 11367: expected 4 fields, saw 5\\nSkipping line 16599: expected 4 fields, saw 5\\nSkipping line 17114: expected 4 fields, saw 5\\nSkipping line 23153: expected 4 fields, saw 5\\nSkipping line 25672: expected 4 fields, saw 5\\nSkipping line 31107: expected 4 fields, saw 5\\nSkipping line 31359: expected 4 fields, saw 5\\nSkipping line 31402: expected 4 fields, saw 5\\nSkipping line 32555: expected 4 fields, saw 5\\nSkipping line 38524: expected 4 fields, saw 5\\nSkipping line 46338: expected 4 fields, saw 5\\nSkipping line 47889: expected 4 fields, saw 5\\nSkipping line 56759: expected 4 fields, saw 5\\nSkipping line 56850: expected 4 fields, saw 5\\nSkipping line 56919: expected 4 fields, saw 5\\nSkipping line 57514: expected 4 fields, saw 5\\nSkipping line 67155: expected 4 fields, saw 5\\nSkipping line 75061: expected 4 fields, saw 5\\nSkipping line 75721: expected 4 fields, saw 5\\nSkipping line 76275: expected 4 fields, saw 5\\nSkipping line 81073: expected 4 fields, saw 5\\nSkipping line 81535: expected 4 fields, saw 5\\nSkipping line 82386: expected 4 fields, saw 5\\nSkipping line 83818: expected 4 fields, saw 5\\nSkipping line 84674: expected 4 fields, saw 5\\nSkipping line 88965: expected 4 fields, saw 5\\nSkipping line 90380: expected 4 fields, saw 5\\nSkipping line 91441: expected 4 fields, saw 5\\nSkipping line 91640: expected 4 fields, saw 5\\nSkipping line 92513: expected 4 fields, saw 5\\nSkipping line 102152: expected 4 fields, saw 5\\n'\n",
      "b'Skipping line 851: expected 3 fields, saw 4\\n'\n"
     ],
     "output_type": "stream"
    }
   ],
   "source": [
    "cola=CoLA(DATA_DIR)\n",
    "sst_2=SST_2(DATA_DIR)\n",
    "mnli=MNLI(DATA_DIR)\n",
    "rte=RTE(DATA_DIR)\n",
    "wnli=WNLI(DATA_DIR)\n",
    "qqp=QQP(DATA_DIR)\n",
    "mrpc=MRPC(DATA_DIR)\n",
    "#snli=SNLI(DATA_DIR)\n",
    "sts_b=STS_B(DATA_DIR)\n",
    "qnli=QNLI(DATA_DIR)\n"
   ],
   "metadata": {
    "collapsed": false,
    "pycharm": {
     "name": "#%%\n",
     "is_executing": false
    }
   }
  }
 ],
 "metadata": {
  "kernelspec": {
   "display_name": "Python 3",
   "language": "python",
   "name": "python3"
  },
  "language_info": {
   "codemirror_mode": {
    "name": "ipython",
    "version": 2
   },
   "file_extension": ".py",
   "mimetype": "text/x-python",
   "name": "python",
   "nbconvert_exporter": "python",
   "pygments_lexer": "ipython2",
   "version": "2.7.6"
  },
  "pycharm": {
   "stem_cell": {
    "cell_type": "raw",
    "source": [],
    "metadata": {
     "collapsed": false
    }
   }
  }
 },
 "nbformat": 4,
 "nbformat_minor": 0
}